{
 "cells": [
  {
   "cell_type": "code",
   "execution_count": 14,
   "metadata": {},
   "outputs": [],
   "source": [
    "from train_model import load_dataset, normalise_inputs, scale_targets, partition_dataset\n",
    "from train_model import create_neural_net, train\n",
    "\n",
    "random_seed = 170118"
   ]
  },
  {
   "cell_type": "markdown",
   "metadata": {},
   "source": [
    "### Setup dataset"
   ]
  },
  {
   "cell_type": "code",
   "execution_count": 15,
   "metadata": {},
   "outputs": [],
   "source": [
    "data_path = 'data/moc_data_sph.npy' # path to moc/qoc data\n",
    "\n",
    "# specify indices for inputs/targets; see data/readme.txt\n",
    "input_indices = [0,1,2,3,4,5,6]\n",
    "output_indices = [7,8,9] "
   ]
  },
  {
   "cell_type": "code",
   "execution_count": 16,
   "metadata": {},
   "outputs": [],
   "source": [
    "inputs, targets = load_dataset(data_path, input_indices, output_indices)\n",
    "# normalise features (faster convergence in GD)\n",
    "inputs_norm, input_scaler = normalise_inputs(inputs)\n",
    "# use tanh output non-linearity so we scale targets to (-1,1)\n",
    "targets_norm, target_scaler = scale_targets(targets)"
   ]
  },
  {
   "cell_type": "code",
   "execution_count": 17,
   "metadata": {},
   "outputs": [],
   "source": [
    "# Partition dataset into training & validation sets\n",
    "X_train, X_val, y_train, y_val = \\\n",
    "    partition_dataset(inputs_norm, \n",
    "                      targets_norm,\n",
    "                      val_size=0.1, # percentage held-out for validation\n",
    "                      random_seed=random_seed)"
   ]
  },
  {
   "cell_type": "markdown",
   "metadata": {},
   "source": [
    "### Create neural network model"
   ]
  },
  {
   "cell_type": "code",
   "execution_count": 18,
   "metadata": {},
   "outputs": [
    {
     "name": "stdout",
     "output_type": "stream",
     "text": [
      "_________________________________________________________________\n",
      "Layer (type)                 Output Shape              Param #   \n",
      "=================================================================\n",
      "dense_5 (Dense)              (None, 50)                400       \n",
      "_________________________________________________________________\n",
      "activation_5 (Activation)    (None, 50)                0         \n",
      "_________________________________________________________________\n",
      "dense_6 (Dense)              (None, 3)                 153       \n",
      "_________________________________________________________________\n",
      "activation_6 (Activation)    (None, 3)                 0         \n",
      "=================================================================\n",
      "Total params: 553\n",
      "Trainable params: 553\n",
      "Non-trainable params: 0\n",
      "_________________________________________________________________\n"
     ]
    }
   ],
   "source": [
    "n_hidden_layers = 1\n",
    "n_units_per_layer = 50\n",
    "\n",
    "model = create_neural_net(len(input_indices), \n",
    "                          len(output_indices),\n",
    "                          n_hidden_layers,\n",
    "                          n_units_per_layer,\n",
    "                          random_seed)\n",
    "\n",
    "model.summary()"
   ]
  },
  {
   "cell_type": "markdown",
   "metadata": {},
   "source": [
    "### Training"
   ]
  },
  {
   "cell_type": "code",
   "execution_count": 19,
   "metadata": {},
   "outputs": [
    {
     "name": "stdout",
     "output_type": "stream",
     "text": [
      "Train on 277721 samples, validate on 30858 samples\n",
      "Epoch 1/5\n",
      "277721/277721 [==============================] - 4s 16us/step - loss: 0.5206 - val_loss: 0.5042\n",
      "Epoch 2/5\n",
      "277721/277721 [==============================] - 5s 17us/step - loss: 0.4970 - val_loss: 0.4924\n",
      "Epoch 3/5\n",
      "277721/277721 [==============================] - 5s 20us/step - loss: 0.4887 - val_loss: 0.4848\n",
      "Epoch 4/5\n",
      "277721/277721 [==============================] - 5s 17us/step - loss: 0.4835 - val_loss: 0.4816\n",
      "Epoch 5/5\n",
      "277721/277721 [==============================] - 5s 19us/step - loss: 0.4801 - val_loss: 0.4775\n"
     ]
    }
   ],
   "source": [
    "history = train((X_train, X_val, y_train, y_val),\n",
    "                model,\n",
    "                epochs=5)"
   ]
  }
 ],
 "metadata": {
  "kernelspec": {
   "display_name": "Python 3",
   "language": "python",
   "name": "python3"
  },
  "language_info": {
   "codemirror_mode": {
    "name": "ipython",
    "version": 3
   },
   "file_extension": ".py",
   "mimetype": "text/x-python",
   "name": "python",
   "nbconvert_exporter": "python",
   "pygments_lexer": "ipython3",
   "version": "3.5.4"
  }
 },
 "nbformat": 4,
 "nbformat_minor": 2
}
